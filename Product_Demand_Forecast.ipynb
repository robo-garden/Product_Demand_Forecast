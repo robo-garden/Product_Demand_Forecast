{
  "nbformat": 4,
  "nbformat_minor": 0,
  "metadata": {
    "colab": {
      "name": "Product-Demand-Forecast.ipynb",
      "provenance": []
    },
    "kernelspec": {
      "name": "python3",
      "display_name": "Python 3"
    }
  },
  "cells": [
    {
      "cell_type": "code",
      "metadata": {
        "id": "YZUbOPHsEDKS",
        "colab_type": "code",
        "colab": {
          "base_uri": "https://localhost:8080/",
          "height": 221
        },
        "outputId": "31a59f5c-3c67-418c-eafb-a6f9c115f1c7"
      },
      "source": [
        "!pip install kaggle\n",
        "!mkdir .kaggle"
      ],
      "execution_count": 4,
      "outputs": [
        {
          "output_type": "stream",
          "text": [
            "Requirement already satisfied: kaggle in /usr/local/lib/python3.6/dist-packages (1.5.6)\n",
            "Requirement already satisfied: python-slugify in /usr/local/lib/python3.6/dist-packages (from kaggle) (4.0.0)\n",
            "Requirement already satisfied: tqdm in /usr/local/lib/python3.6/dist-packages (from kaggle) (4.41.1)\n",
            "Requirement already satisfied: python-dateutil in /usr/local/lib/python3.6/dist-packages (from kaggle) (2.8.1)\n",
            "Requirement already satisfied: requests in /usr/local/lib/python3.6/dist-packages (from kaggle) (2.23.0)\n",
            "Requirement already satisfied: urllib3<1.25,>=1.21.1 in /usr/local/lib/python3.6/dist-packages (from kaggle) (1.24.3)\n",
            "Requirement already satisfied: six>=1.10 in /usr/local/lib/python3.6/dist-packages (from kaggle) (1.12.0)\n",
            "Requirement already satisfied: certifi in /usr/local/lib/python3.6/dist-packages (from kaggle) (2020.4.5.2)\n",
            "Requirement already satisfied: text-unidecode>=1.3 in /usr/local/lib/python3.6/dist-packages (from python-slugify->kaggle) (1.3)\n",
            "Requirement already satisfied: idna<3,>=2.5 in /usr/local/lib/python3.6/dist-packages (from requests->kaggle) (2.9)\n",
            "Requirement already satisfied: chardet<4,>=3.0.2 in /usr/local/lib/python3.6/dist-packages (from requests->kaggle) (3.0.4)\n",
            "mkdir: cannot create directory ‘.kaggle’: File exists\n"
          ],
          "name": "stdout"
        }
      ]
    },
    {
      "cell_type": "code",
      "metadata": {
        "id": "zbE77OUhEMHk",
        "colab_type": "code",
        "colab": {
          "base_uri": "https://localhost:8080/",
          "height": 425
        },
        "outputId": "b9d2a998-681e-45eb-eea2-020b5e518ff2"
      },
      "source": [
        "import json\n",
        "token = {\"username\":\"fatemehy\",\"key\":\"e6177841494493a99d3da8b61bab2fb1\"}\n",
        "with open('/content/.kaggle/kaggle.json', 'w') as file:\n",
        "    json.dump(token, file)\n",
        "!cp /content/.kaggle/kaggle.json ~/.kaggle/kaggle.json\n",
        "!kaggle config set -n path -v{/content}\n",
        "!chmod 600 /root/.kaggle/kaggle.json\n",
        "!kaggle datasets list"
      ],
      "execution_count": 9,
      "outputs": [
        {
          "output_type": "stream",
          "text": [
            "- path is now set to: {/content}\n",
            "Warning: Looks like you're using an outdated API Version, please consider updating (server 1.5.6 / client 1.5.4)\n",
            "ref                                                             title                                                size  lastUpdated          downloadCount  \n",
            "--------------------------------------------------------------  --------------------------------------------------  -----  -------------------  -------------  \n",
            "allen-institute-for-ai/CORD-19-research-challenge               COVID-19 Open Research Dataset Challenge (CORD-19)    3GB  2020-06-10 00:09:23           2985  \n",
            "roche-data-science-coalition/uncover                            UNCOVER COVID-19 Challenge                          179MB  2020-05-21 18:57:53           3209  \n",
            "kwullum/fatal-police-shootings-in-the-us                        Fatal Police Shootings in the US                      1MB  2017-09-22 19:18:21          15296  \n",
            "Cornell-University/arxiv                                        ArXiv Metadata                                        2GB  2020-05-06 23:18:35             70  \n",
            "yash612/stockmarket-sentiment-dataset                           Stock-Market Sentiment Dataset                      201KB  2020-06-05 19:16:19            573  \n",
            "mohitkr05/global-significant-earthquake-database-from-2150bc    Global Significant Earthquake Database from 2150BC  216KB  2020-06-08 09:41:18            332  \n",
            "batjoker/zomato-restaurants-hyderabad                           Zomato Restaurants Hyderabad                          1MB  2020-06-08 15:11:39            649  \n",
            "andrewmvd/global-education-statistics                           Global Education Statistics                          38MB  2020-06-06 04:35:48            724  \n",
            "cprete/covid19-open-datasets-for-brazil                         COVID-19 Open Datasets for Brazil                   139MB  2020-06-07 15:36:31            280  \n",
            "longnguyen2306/bacteria-detection-with-darkfield-microscopy     Bacteria detection with darkfield microscopy        162MB  2020-06-08 10:31:54            109  \n",
            "sudalairajkumar/daily-temperature-of-major-cities               Daily Temperature of Major Cities                    13MB  2020-06-05 07:34:48           1547  \n",
            "thoolihan/los-angeles-1992-riot-deaths-from-la-times            Los Angeles 1992 Riot Deaths from LA Times           16KB  2020-06-03 21:09:07              0  \n",
            "imdevskp/hiv-aids-dataset                                       HIV AIDS Dataset                                     37KB  2020-06-11 12:59:45            340  \n",
            "jpmiller/police-violence-in-the-us                              US Police Violence & Fatal Shootings                 19MB  2020-06-16 14:19:33            145  \n",
            "paultimothymooney/minneapolis-police-stops-and-police-violence  Minneapolis Police Stops and Police Violence          8MB  2020-06-17 20:54:56             10  \n",
            "benroshan/factors-affecting-campus-placement                    Campus Recruitment                                    5KB  2020-04-11 11:09:02           8127  \n",
            "bobbyscience/league-of-legends-diamond-ranked-games-10-min      League of Legends Diamond Ranked Games (10 min)     539KB  2020-04-13 13:53:02           3463  \n",
            "fireballbyedimyrnmom/us-counties-covid-19-dataset               US counties COVID 19 dataset                          2MB  2020-06-17 12:21:34             22  \n",
            "divyansh22/flight-delay-prediction                              January Flight Delay Prediction                      23MB  2020-04-14 13:15:41           2723  \n",
            "clmentbisaillon/fake-and-real-news-dataset                      Fake and real news dataset                           41MB  2020-03-26 18:51:15           7009  \n"
          ],
          "name": "stdout"
        }
      ]
    },
    {
      "cell_type": "code",
      "metadata": {
        "id": "V_C1CZaMEPQ7",
        "colab_type": "code",
        "colab": {
          "base_uri": "https://localhost:8080/",
          "height": 136
        },
        "outputId": "4e7c9be9-6f16-4663-e3ea-7de017562811"
      },
      "source": [
        "!kaggle datasets list -s productdemandforecasting\n",
        "!kaggle datasets download -d felixzhao/productdemandforecasting     -p /content\n",
        "!unzip \\*.zip"
      ],
      "execution_count": 10,
      "outputs": [
        {
          "output_type": "stream",
          "text": [
            "Warning: Looks like you're using an outdated API Version, please consider updating (server 1.5.6 / client 1.5.4)\n",
            "ref                                 title                         size  lastUpdated          downloadCount  \n",
            "----------------------------------  ----------------------------  ----  -------------------  -------------  \n",
            "felixzhao/productdemandforecasting  Forecasts for Product Demand   5MB  2017-08-25 02:42:57           7343  \n",
            "productdemandforecasting.zip: Skipping, found more recently modified local copy (use --force to force download)\n",
            "Archive:  productdemandforecasting.zip\n",
            "replace Historical Product Demand.csv? [y]es, [n]o, [A]ll, [N]one, [r]ename: n\n"
          ],
          "name": "stdout"
        }
      ]
    },
    {
      "cell_type": "code",
      "metadata": {
        "id": "Ey3CLd9nESly",
        "colab_type": "code",
        "colab": {
          "base_uri": "https://localhost:8080/",
          "height": 419
        },
        "outputId": "bdde43a9-01cd-42c9-e738-a1a14b9f1aa1"
      },
      "source": [
        "# Load data into Pandas Dataframe\n",
        "import pandas as pd\n",
        "df = pd.read_csv('Historical Product Demand.csv')\n",
        "df"
      ],
      "execution_count": 29,
      "outputs": [
        {
          "output_type": "execute_result",
          "data": {
            "text/html": [
              "<div>\n",
              "<style scoped>\n",
              "    .dataframe tbody tr th:only-of-type {\n",
              "        vertical-align: middle;\n",
              "    }\n",
              "\n",
              "    .dataframe tbody tr th {\n",
              "        vertical-align: top;\n",
              "    }\n",
              "\n",
              "    .dataframe thead th {\n",
              "        text-align: right;\n",
              "    }\n",
              "</style>\n",
              "<table border=\"1\" class=\"dataframe\">\n",
              "  <thead>\n",
              "    <tr style=\"text-align: right;\">\n",
              "      <th></th>\n",
              "      <th>Product_Code</th>\n",
              "      <th>Warehouse</th>\n",
              "      <th>Product_Category</th>\n",
              "      <th>Date</th>\n",
              "      <th>Order_Demand</th>\n",
              "    </tr>\n",
              "  </thead>\n",
              "  <tbody>\n",
              "    <tr>\n",
              "      <th>0</th>\n",
              "      <td>Product_0993</td>\n",
              "      <td>Whse_J</td>\n",
              "      <td>Category_028</td>\n",
              "      <td>2012/7/27</td>\n",
              "      <td>100</td>\n",
              "    </tr>\n",
              "    <tr>\n",
              "      <th>1</th>\n",
              "      <td>Product_0979</td>\n",
              "      <td>Whse_J</td>\n",
              "      <td>Category_028</td>\n",
              "      <td>2012/1/19</td>\n",
              "      <td>500</td>\n",
              "    </tr>\n",
              "    <tr>\n",
              "      <th>2</th>\n",
              "      <td>Product_0979</td>\n",
              "      <td>Whse_J</td>\n",
              "      <td>Category_028</td>\n",
              "      <td>2012/2/3</td>\n",
              "      <td>500</td>\n",
              "    </tr>\n",
              "    <tr>\n",
              "      <th>3</th>\n",
              "      <td>Product_0979</td>\n",
              "      <td>Whse_J</td>\n",
              "      <td>Category_028</td>\n",
              "      <td>2012/2/9</td>\n",
              "      <td>500</td>\n",
              "    </tr>\n",
              "    <tr>\n",
              "      <th>4</th>\n",
              "      <td>Product_0979</td>\n",
              "      <td>Whse_J</td>\n",
              "      <td>Category_028</td>\n",
              "      <td>2012/3/2</td>\n",
              "      <td>500</td>\n",
              "    </tr>\n",
              "    <tr>\n",
              "      <th>...</th>\n",
              "      <td>...</td>\n",
              "      <td>...</td>\n",
              "      <td>...</td>\n",
              "      <td>...</td>\n",
              "      <td>...</td>\n",
              "    </tr>\n",
              "    <tr>\n",
              "      <th>1048570</th>\n",
              "      <td>Product_1791</td>\n",
              "      <td>Whse_J</td>\n",
              "      <td>Category_006</td>\n",
              "      <td>2016/4/27</td>\n",
              "      <td>1000</td>\n",
              "    </tr>\n",
              "    <tr>\n",
              "      <th>1048571</th>\n",
              "      <td>Product_1974</td>\n",
              "      <td>Whse_J</td>\n",
              "      <td>Category_006</td>\n",
              "      <td>2016/4/27</td>\n",
              "      <td>1</td>\n",
              "    </tr>\n",
              "    <tr>\n",
              "      <th>1048572</th>\n",
              "      <td>Product_1787</td>\n",
              "      <td>Whse_J</td>\n",
              "      <td>Category_006</td>\n",
              "      <td>2016/4/28</td>\n",
              "      <td>2500</td>\n",
              "    </tr>\n",
              "    <tr>\n",
              "      <th>1048573</th>\n",
              "      <td>Product_0901</td>\n",
              "      <td>Whse_J</td>\n",
              "      <td>Category_023</td>\n",
              "      <td>2016/10/7</td>\n",
              "      <td>50</td>\n",
              "    </tr>\n",
              "    <tr>\n",
              "      <th>1048574</th>\n",
              "      <td>Product_0704</td>\n",
              "      <td>Whse_J</td>\n",
              "      <td>Category_001</td>\n",
              "      <td>2016/6/27</td>\n",
              "      <td>4</td>\n",
              "    </tr>\n",
              "  </tbody>\n",
              "</table>\n",
              "<p>1048575 rows × 5 columns</p>\n",
              "</div>"
            ],
            "text/plain": [
              "         Product_Code Warehouse Product_Category       Date Order_Demand\n",
              "0        Product_0993    Whse_J     Category_028  2012/7/27         100 \n",
              "1        Product_0979    Whse_J     Category_028  2012/1/19         500 \n",
              "2        Product_0979    Whse_J     Category_028   2012/2/3         500 \n",
              "3        Product_0979    Whse_J     Category_028   2012/2/9         500 \n",
              "4        Product_0979    Whse_J     Category_028   2012/3/2         500 \n",
              "...               ...       ...              ...        ...          ...\n",
              "1048570  Product_1791    Whse_J     Category_006  2016/4/27        1000 \n",
              "1048571  Product_1974    Whse_J     Category_006  2016/4/27           1 \n",
              "1048572  Product_1787    Whse_J     Category_006  2016/4/28        2500 \n",
              "1048573  Product_0901    Whse_J     Category_023  2016/10/7          50 \n",
              "1048574  Product_0704    Whse_J     Category_001  2016/6/27           4 \n",
              "\n",
              "[1048575 rows x 5 columns]"
            ]
          },
          "metadata": {
            "tags": []
          },
          "execution_count": 29
        }
      ]
    },
    {
      "cell_type": "code",
      "metadata": {
        "id": "t5lMIvPFEVnG",
        "colab_type": "code",
        "colab": {
          "base_uri": "https://localhost:8080/",
          "height": 119
        },
        "outputId": "706023c6-8288-48c5-fdca-ff137a626789"
      },
      "source": [
        "#Does the dataset include any missing values? If so, delete the missing values entries\n",
        "df.isnull().sum(axis = 0)"
      ],
      "execution_count": 30,
      "outputs": [
        {
          "output_type": "execute_result",
          "data": {
            "text/plain": [
              "Product_Code            0\n",
              "Warehouse               0\n",
              "Product_Category        0\n",
              "Date                11239\n",
              "Order_Demand            0\n",
              "dtype: int64"
            ]
          },
          "metadata": {
            "tags": []
          },
          "execution_count": 30
        }
      ]
    },
    {
      "cell_type": "code",
      "metadata": {
        "id": "CzZ3SjBDEYX4",
        "colab_type": "code",
        "colab": {
          "base_uri": "https://localhost:8080/",
          "height": 419
        },
        "outputId": "cad65f79-1c6b-440e-852d-2593cd2b2c81"
      },
      "source": [
        "#Preprocessing\n",
        "from sklearn.preprocessing import LabelEncoder\n",
        "encoder = LabelEncoder()\n",
        "encoder.fit(df['Product_Code'])\n",
        "df['Product_Code']= encoder.transform(df['Product_Code'])\n",
        "\n",
        "encoder.fit(df['Warehouse'])\n",
        "df['Warehouse']= encoder.transform(df['Warehouse'])\n",
        "\n",
        "encoder.fit(df['Product_Category'])\n",
        "df['Product_Category']= encoder.transform(df['Product_Category'])\n",
        "\n",
        "df['year'] = pd.DatetimeIndex(df['Date']).year\n",
        "\n",
        "\n",
        "df['month'] = pd.DatetimeIndex(df['Date']).month\n",
        "del df['Date']\n",
        "# df=df.drop(df['Date'])\n",
        "df.head()\n",
        "\n",
        "\n",
        "#Target Feature - Order_Demand\n",
        "#Removing () from the target feature.\n",
        "df['Order_Demand'] = df['Order_Demand'].str.replace('(',\"\")\n",
        "df['Order_Demand'] = df['Order_Demand'].str.replace(')',\"\")\n",
        "\n",
        "#Next step is to change the data type.\n",
        "df['Order_Demand'] = df['Order_Demand'].astype('int64')\n",
        "\n",
        "df.dropna()"
      ],
      "execution_count": 31,
      "outputs": [
        {
          "output_type": "execute_result",
          "data": {
            "text/html": [
              "<div>\n",
              "<style scoped>\n",
              "    .dataframe tbody tr th:only-of-type {\n",
              "        vertical-align: middle;\n",
              "    }\n",
              "\n",
              "    .dataframe tbody tr th {\n",
              "        vertical-align: top;\n",
              "    }\n",
              "\n",
              "    .dataframe thead th {\n",
              "        text-align: right;\n",
              "    }\n",
              "</style>\n",
              "<table border=\"1\" class=\"dataframe\">\n",
              "  <thead>\n",
              "    <tr style=\"text-align: right;\">\n",
              "      <th></th>\n",
              "      <th>Product_Code</th>\n",
              "      <th>Warehouse</th>\n",
              "      <th>Product_Category</th>\n",
              "      <th>Order_Demand</th>\n",
              "      <th>year</th>\n",
              "      <th>month</th>\n",
              "    </tr>\n",
              "  </thead>\n",
              "  <tbody>\n",
              "    <tr>\n",
              "      <th>0</th>\n",
              "      <td>982</td>\n",
              "      <td>2</td>\n",
              "      <td>27</td>\n",
              "      <td>100</td>\n",
              "      <td>2012.0</td>\n",
              "      <td>7.0</td>\n",
              "    </tr>\n",
              "    <tr>\n",
              "      <th>1</th>\n",
              "      <td>968</td>\n",
              "      <td>2</td>\n",
              "      <td>27</td>\n",
              "      <td>500</td>\n",
              "      <td>2012.0</td>\n",
              "      <td>1.0</td>\n",
              "    </tr>\n",
              "    <tr>\n",
              "      <th>2</th>\n",
              "      <td>968</td>\n",
              "      <td>2</td>\n",
              "      <td>27</td>\n",
              "      <td>500</td>\n",
              "      <td>2012.0</td>\n",
              "      <td>2.0</td>\n",
              "    </tr>\n",
              "    <tr>\n",
              "      <th>3</th>\n",
              "      <td>968</td>\n",
              "      <td>2</td>\n",
              "      <td>27</td>\n",
              "      <td>500</td>\n",
              "      <td>2012.0</td>\n",
              "      <td>2.0</td>\n",
              "    </tr>\n",
              "    <tr>\n",
              "      <th>4</th>\n",
              "      <td>968</td>\n",
              "      <td>2</td>\n",
              "      <td>27</td>\n",
              "      <td>500</td>\n",
              "      <td>2012.0</td>\n",
              "      <td>3.0</td>\n",
              "    </tr>\n",
              "    <tr>\n",
              "      <th>...</th>\n",
              "      <td>...</td>\n",
              "      <td>...</td>\n",
              "      <td>...</td>\n",
              "      <td>...</td>\n",
              "      <td>...</td>\n",
              "      <td>...</td>\n",
              "    </tr>\n",
              "    <tr>\n",
              "      <th>1048570</th>\n",
              "      <td>1780</td>\n",
              "      <td>2</td>\n",
              "      <td>5</td>\n",
              "      <td>1000</td>\n",
              "      <td>2016.0</td>\n",
              "      <td>4.0</td>\n",
              "    </tr>\n",
              "    <tr>\n",
              "      <th>1048571</th>\n",
              "      <td>1962</td>\n",
              "      <td>2</td>\n",
              "      <td>5</td>\n",
              "      <td>1</td>\n",
              "      <td>2016.0</td>\n",
              "      <td>4.0</td>\n",
              "    </tr>\n",
              "    <tr>\n",
              "      <th>1048572</th>\n",
              "      <td>1776</td>\n",
              "      <td>2</td>\n",
              "      <td>5</td>\n",
              "      <td>2500</td>\n",
              "      <td>2016.0</td>\n",
              "      <td>4.0</td>\n",
              "    </tr>\n",
              "    <tr>\n",
              "      <th>1048573</th>\n",
              "      <td>890</td>\n",
              "      <td>2</td>\n",
              "      <td>22</td>\n",
              "      <td>50</td>\n",
              "      <td>2016.0</td>\n",
              "      <td>10.0</td>\n",
              "    </tr>\n",
              "    <tr>\n",
              "      <th>1048574</th>\n",
              "      <td>703</td>\n",
              "      <td>2</td>\n",
              "      <td>0</td>\n",
              "      <td>4</td>\n",
              "      <td>2016.0</td>\n",
              "      <td>6.0</td>\n",
              "    </tr>\n",
              "  </tbody>\n",
              "</table>\n",
              "<p>1037336 rows × 6 columns</p>\n",
              "</div>"
            ],
            "text/plain": [
              "         Product_Code  Warehouse  Product_Category  Order_Demand    year  month\n",
              "0                 982          2                27           100  2012.0    7.0\n",
              "1                 968          2                27           500  2012.0    1.0\n",
              "2                 968          2                27           500  2012.0    2.0\n",
              "3                 968          2                27           500  2012.0    2.0\n",
              "4                 968          2                27           500  2012.0    3.0\n",
              "...               ...        ...               ...           ...     ...    ...\n",
              "1048570          1780          2                 5          1000  2016.0    4.0\n",
              "1048571          1962          2                 5             1  2016.0    4.0\n",
              "1048572          1776          2                 5          2500  2016.0    4.0\n",
              "1048573           890          2                22            50  2016.0   10.0\n",
              "1048574           703          2                 0             4  2016.0    6.0\n",
              "\n",
              "[1037336 rows x 6 columns]"
            ]
          },
          "metadata": {
            "tags": []
          },
          "execution_count": 31
        }
      ]
    },
    {
      "cell_type": "code",
      "metadata": {
        "id": "rVa0PSXqNpHf",
        "colab_type": "code",
        "colab": {
          "base_uri": "https://localhost:8080/",
          "height": 353
        },
        "outputId": "b595e56d-9c8f-459b-ca62-011d577babe5"
      },
      "source": [
        "#Lets check the ditribution of the target variable (Order_Demand)\n",
        "from matplotlib import rcParams\n",
        "import seaborn as sb\n",
        "from scipy.stats import norm,probplot\n",
        "# figure size in inches\n",
        "rcParams['figure.figsize'] = 4,2\n",
        "\n",
        "sb.distplot(df['Order_Demand'], fit=norm)\n",
        "\n",
        "#Get the QQ-plot\n",
        "fig = plt.figure()\n",
        "res = probplot(df['Order_Demand'], plot=plt)\n",
        "plt.show()"
      ],
      "execution_count": 32,
      "outputs": [
        {
          "output_type": "display_data",
          "data": {
            "image/png": "[encoded data removed]",
            "text/plain": [
              "<Figure size 288x144 with 1 Axes>"
            ]
          },
          "metadata": {
            "tags": [],
            "needs_background": "light"
          }
        },
        {
          "output_type": "display_data",
          "data": {
            "image/png": "[encoded data removed]",
            "text/plain": [
              "<Figure size 288x144 with 1 Axes>"
            ]
          },
          "metadata": {
            "tags": [],
            "needs_background": "light"
          }
        }
      ]
    },
    {
      "cell_type": "code",
      "metadata": {
        "id": "7LLyuSumMfnz",
        "colab_type": "code",
        "colab": {
          "base_uri": "https://localhost:8080/",
          "height": 558
        },
        "outputId": "4c76e00c-2228-4b25-850a-17f439c4f07a"
      },
      "source": [
        "#Product Category.\n",
        "import seaborn as sb\n",
        "from matplotlib import rcParams\n",
        "print (len(df['Product_Category'].value_counts()))\n",
        "\n",
        "rcParams['figure.figsize'] = 50,14\n",
        "sb.countplot(df['Product_Category'].sort_values(ascending = True))\n",
        "\n",
        "#There's a lot of orders on category19."
      ],
      "execution_count": 33,
      "outputs": [
        {
          "output_type": "stream",
          "text": [
            "33\n"
          ],
          "name": "stdout"
        },
        {
          "output_type": "execute_result",
          "data": {
            "text/plain": [
              "<matplotlib.axes._subplots.AxesSubplot at 0x7fb2db95ceb8>"
            ]
          },
          "metadata": {
            "tags": []
          },
          "execution_count": 33
        },
        {
          "output_type": "display_data",
          "data": {
            "image/png": "[encoded data removed]",
            "text/plain": [
              "<Figure size 3600x1008 with 1 Axes>"
            ]
          },
          "metadata": {
            "tags": [],
            "needs_background": "light"
          }
        }
      ]
    },
    {
      "cell_type": "code",
      "metadata": {
        "id": "kVhpK044NB67",
        "colab_type": "code",
        "colab": {
          "base_uri": "https://localhost:8080/",
          "height": 290
        },
        "outputId": "57524817-7dbf-444f-cbdf-892a3933db48"
      },
      "source": [
        "#Lets check the orders by warehouse.\n",
        "import matplotlib.pyplot as plt\n",
        "import numpy as np\n",
        "#Checking with Boxplots\n",
        "from matplotlib import rcParams\n",
        "# figure size in inches\n",
        "rcParams['figure.figsize'] = 16,4\n",
        "f, axes = plt.subplots(1, 2)\n",
        "#Regular Data\n",
        "fig3 = sb.boxplot( df['Warehouse'],df['Order_Demand'], ax = axes[0])\n",
        "#Data with Log Transformation\n",
        "fig4 = sb.boxplot( df['Warehouse'], np.log1p(df['Order_Demand']),ax = axes[1])\n",
        "\n",
        "# del fig3, fig4"
      ],
      "execution_count": 34,
      "outputs": [
        {
          "output_type": "display_data",
          "data": {
            "image/png": "[encoded data removed]",
            "text/plain": [
              "<Figure size 1152x288 with 2 Axes>"
            ]
          },
          "metadata": {
            "tags": [],
            "needs_background": "light"
          }
        }
      ]
    },
    {
      "cell_type": "code",
      "metadata": {
        "id": "LC2vfX76Eecq",
        "colab_type": "code",
        "colab": {
          "base_uri": "https://localhost:8080/",
          "height": 136
        },
        "outputId": "0eb4c14c-89ae-46b4-ab47-0a8dbd74063c"
      },
      "source": [
        "a=df[df.columns[0:]].corr() ['Order_Demand'][:]\n",
        "a\n",
        "# result=a[abs(a)>0.6]\n",
        "# result"
      ],
      "execution_count": 39,
      "outputs": [
        {
          "output_type": "execute_result",
          "data": {
            "text/plain": [
              "Product_Code        0.030940\n",
              "Warehouse           0.058026\n",
              "Product_Category    0.053335\n",
              "Order_Demand        1.000000\n",
              "year                0.008249\n",
              "month              -0.000642\n",
              "Name: Order_Demand, dtype: float64"
            ]
          },
          "metadata": {
            "tags": []
          },
          "execution_count": 39
        }
      ]
    },
    {
      "cell_type": "code",
      "metadata": {
        "id": "i7RxntFvda75",
        "colab_type": "code",
        "colab": {}
      },
      "source": [
        "new_index=['Order_Demand','Product_Code'\t,'Warehouse'\t,'Product_Category'\t,'year'\t,'month']\n",
        "df=df.reindex(columns=new_index)"
      ],
      "execution_count": 40,
      "outputs": []
    },
    {
      "cell_type": "code",
      "metadata": {
        "id": "ocTzwdG3P7fw",
        "colab_type": "code",
        "colab": {
          "base_uri": "https://localhost:8080/",
          "height": 34
        },
        "outputId": "be3cf1ae-279a-476c-c0ee-c4817aa7e733"
      },
      "source": [
        "import numpy as np\n",
        "df.describe\n",
        "# df=df.drop(['Date'])\n",
        "from sklearn.preprocessing import StandardScaler\n",
        "scaler = StandardScaler()\n",
        "\n",
        "X = scaler.fit_transform(df.iloc[:,1:5])\n",
        "y = (df.iloc[:, 0].values)\n",
        "print(y)\n",
        "from sklearn.model_selection import train_test_split\n",
        "X_train, X_test, y_train, y_test = train_test_split(X, y,test_size=0.2, random_state=0)\n",
        "X_test, X_val, y_test, y_val = train_test_split(X_train, y_train, test_size=0.5, random_state=1) "
      ],
      "execution_count": null,
      "outputs": [
        {
          "output_type": "stream",
          "text": [
            "[ 100  500  500 ... 2500   50    4]\n"
          ],
          "name": "stdout"
        }
      ]
    },
    {
      "cell_type": "code",
      "metadata": {
        "id": "437IaCyV-AZ2",
        "colab_type": "code",
        "colab": {
          "base_uri": "https://localhost:8080/",
          "height": 51
        },
        "outputId": "4cf9732b-6357-4e30-8410-23832246090e"
      },
      "source": [
        "df.dropna\n",
        "df.drop_duplicates\n",
        "from sklearn.metrics import r2_score, make_scorer\n",
        "from sklearn.model_selection import GridSearchCV\n",
        "from sklearn.tree import DecisionTreeRegressor\n",
        "import numpy as np\n",
        "# df=np.nan_to_num(df)\n",
        "df.describe\n",
        "# df=df.drop(['Date'])\n",
        "from sklearn.preprocessing import StandardScaler\n",
        "scaler = StandardScaler()\n",
        "X = scaler.fit_transform(df.iloc[:,1:])\n",
        "X=np.nan_to_num(X)\n",
        "X[np.isinf(X)]=0\n",
        "# X=np.asarray(X,dtype=int)\n",
        "y = df.iloc[:, 0].values\n",
        "# print(y)\n",
        "from sklearn.model_selection import train_test_split\n",
        "X_train, X_test, y_train, y_test = train_test_split(X, y,test_size=0.2, random_state=0)\n",
        "X_test, X_val, y_test, y_val = train_test_split(X_train, y_train, test_size=0.5, random_state=1) \n",
        "\n",
        "from sklearn.model_selection import GridSearchCV\n",
        "parameters = {'max_depth':range(10,50,5)}\n",
        "clf = GridSearchCV(DecisionTreeRegressor(), parameters, n_jobs=4)\n",
        "clf.fit(X=X, y=y)\n",
        "tree_model = clf.best_estimator_\n",
        "print ('best score and parameter: ',clf.best_score_, clf.best_params_) \n",
        "r2_score(y_test, clf.best_estimator_.predict(X_test))\n"
      ],
      "execution_count": 41,
      "outputs": [
        {
          "output_type": "stream",
          "text": [
            "best score and parameter:  0.1376719501265043 {'max_depth': 10}\n"
          ],
          "name": "stdout"
        },
        {
          "output_type": "execute_result",
          "data": {
            "text/plain": [
              "0.26935522536163625"
            ]
          },
          "metadata": {
            "tags": []
          },
          "execution_count": 41
        }
      ]
    },
    {
      "cell_type": "code",
      "metadata": {
        "id": "1k1EI2zAJ8_w",
        "colab_type": "code",
        "colab": {
          "base_uri": "https://localhost:8080/",
          "height": 68
        },
        "outputId": "3b469927-d804-4acc-91d8-6be392021521"
      },
      "source": [
        "\n",
        "df.dropna\n",
        "df.drop_duplicates\n",
        "\n",
        "import numpy as np\n",
        "# df=np.nan_to_num(df)\n",
        "df.describe\n",
        "# df=df.drop(['Date'])\n",
        "from sklearn.preprocessing import StandardScaler\n",
        "scaler = StandardScaler()\n",
        "X = scaler.fit_transform(df.iloc[:,1:])\n",
        "X=np.nan_to_num(X)\n",
        "X[np.isinf(X)]=0\n",
        "# X=np.asarray(X,dtype=int)\n",
        "y = df.iloc[:, 0].values\n",
        "# print(y)\n",
        "from sklearn.model_selection import train_test_split\n",
        "X_train, X_test, y_train, y_test = train_test_split(X, y,test_size=0.2, random_state=0)\n",
        "X_test, X_val, y_test, y_val = train_test_split(X_train, y_train, test_size=0.5, random_state=1) \n",
        "\n",
        "\n",
        "\n",
        "from sklearn.tree import DecisionTreeRegressor\n",
        "model = DecisionTreeRegressor(criterion='mse', random_state=0).fit(X_train, y_train)\n",
        "score = model.score(X_test, y_test)\n",
        "y_pred = model.predict(X_test)\n",
        "from sklearn.metrics import mean_squared_error\n",
        "print('MSE: ' + str(mean_squared_error(y_test, y_pred)))\n",
        "from sklearn.metrics import mean_absolute_error\n",
        "print('MAE: ' + str(mean_absolute_error(y_test,y_pred)))\n",
        "from sklearn.metrics import r2_score\n",
        "print('r2_score: '+str(r2_score(y_test, y_pred)))\n",
        "\n",
        "from sklearn.tree import DecisionTreeRegressor\n",
        "model = DecisionTreeRegressor(criterion='mae', random_state=0).fit(X_train, y_train)\n",
        "score = model.score(X_test, y_test)\n",
        "y_pred = model.predict(X_test)\n",
        "from sklearn.metrics import mean_squared_error\n",
        "print('MSE: ' + str(mean_squared_error(y_test, y_pred)))\n",
        "from sklearn.metrics import mean_absolute_error\n",
        "print('MAE: ' + str(mean_absolute_error(y_test,y_pred)))\n",
        "from sklearn.metrics import r2_score\n",
        "print('r2_score: '+str(r2_score(y_test, y_pred)))\n",
        "\n",
        "\n",
        "\n",
        "from sklearn.svm import SVR\n",
        "model = SVR(C=10000.0, kernel='rbf', gamma='auto', epsilon=0.1).fit(X_train, y_train)\n",
        "score = model.score(X_test, y_test)\n",
        "y_pred = model.predict(X_test)\n",
        "from sklearn.metrics import mean_squared_error\n",
        "print('MSE: ' + str(mean_squared_error(y_test, y_pred)))\n",
        "from sklearn.metrics import mean_absolute_error\n",
        "print('MAE: ' + str(mean_absolute_error(y_test,y_pred)))\n",
        "from sklearn.metrics import r2_score\n",
        "print('r2_score: '+str(r2_score(y_test, y_pred)))\n",
        "\n",
        "from sklearn.svm import SVR\n",
        "model = SVR(C=10000.0, kernel='linear', gamma='auto', epsilon=0.1).fit(X_train, y_train)\n",
        "score = model.score(X_test, y_test)\n",
        "y_pred = model.predict(X_test)\n",
        "from sklearn.metrics import mean_squared_error\n",
        "print('MSE: ' + str(mean_squared_error(y_test, y_pred)))\n",
        "from sklearn.metrics import mean_absolute_error\n",
        "print('MAE: ' + str(mean_absolute_error(y_test,y_pred)))\n",
        "from sklearn.metrics import r2_score\n",
        "print('r2_score: '+str(r2_score(y_test, y_pred)))\n",
        "\n",
        "\n",
        "from sklearn.svm import SVR\n",
        "model = SVR(C=10000.0, kernel='poly', gamma='auto', epsilon=0.1).fit(X_train, y_train)\n",
        "score = model.score(X_test, y_test)\n",
        "y_pred = model.predict(X_test)\n",
        "from sklearn.metrics import mean_squared_error\n",
        "print('MSE: ' + str(mean_squared_error(y_test, y_pred)))\n",
        "from sklearn.metrics import mean_absolute_error\n",
        "print('MAE: ' + str(mean_absolute_error(y_test,y_pred)))\n",
        "from sklearn.metrics import r2_score\n",
        "print('r2_score: '+str(r2_score(y_test, y_pred)))\n",
        "\n",
        "from sklearn.svm import SVR\n",
        "model = SVR(C=10000.0, kernel='sigmoid', gamma='auto', epsilon=0.1,degree=3).fit(X_train, y_train)\n",
        "score = model.score(X_test, y_test)\n",
        "y_pred = model.predict(X_test)\n",
        "from sklearn.metrics import mean_squared_error\n",
        "print('MSE: ' + str(mean_squared_error(y_test, y_pred)))\n",
        "from sklearn.metrics import mean_absolute_error\n",
        "print('MAE: ' + str(mean_absolute_error(y_test,y_pred)))\n",
        "from sklearn.metrics import r2_score\n",
        "print('r2_score: '+str(r2_score(y_test, y_pred)))\n",
        "\n",
        "from sklearn.svm import SVR\n",
        "model = SVR(C=10000.0, kernel='precomputed', gamma='auto', epsilon=0.1).fit(X_train, y_train)\n",
        "score = model.score(X_test, y_test)\n",
        "y_pred = model.predict(X_test)\n",
        "from sklearn.metrics import mean_squared_error\n",
        "print('MSE: ' + str(mean_squared_error(y_test, y_pred)))\n",
        "from sklearn.metrics import mean_absolute_error\n",
        "print('MAE: ' + str(mean_absolute_error(y_test,y_pred)))\n",
        "from sklearn.metrics import r2_score\n",
        "print('r2_score: '+str(r2_score(y_test, y_pred)))\n",
        "\n"
      ],
      "execution_count": null,
      "outputs": [
        {
          "output_type": "stream",
          "text": [
            "MSE: 522936542.22818935\n",
            "MAE: 4472.402297465211\n",
            "r2_score: 0.3613849762977438\n"
          ],
          "name": "stdout"
        }
      ]
    }
  ]
}